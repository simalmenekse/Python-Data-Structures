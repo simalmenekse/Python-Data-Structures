{
 "cells": [
  {
   "attachments": {},
   "cell_type": "markdown",
   "metadata": {},
   "source": [
    "# Binary Search Tree Check \n",
    "\n",
    "## Problem Statement\n",
    "\n",
    "Given a binary tree, check whether it’s a binary search tree or not.\n",
    "\n",
    "** Again, no solution cell, just worry about your code making sense logically. Hint: Think about tree traversals. **\n",
    "\n",
    "## Solution\n",
    "\n",
    "Fill out your solution below:"
   ]
  },
  {
   "cell_type": "code",
   "execution_count": 1,
   "metadata": {},
   "outputs": [],
   "source": [
    "tree_vals = []\n",
    "\n",
    "def inorder(tree):\n",
    "    if tree != None:\n",
    "        inorder(tree.getLeftChild())\n",
    "        tree_vals.append(tree.getRootVal())\n",
    "        inorder(tree.getRightChild())\n",
    "\n",
    "def sort_check(tree_vals):\n",
    "    return tree_vals == sorted(tree_vals)\n",
    "\n",
    "inorder(tree)\n",
    "sort_check(tree_vals)"
   ]
  },
  {
   "attachments": {},
   "cell_type": "markdown",
   "metadata": {},
   "source": [
    "This is a classic interview problem, so feel free to just Google search \"Validate BST\" for more information on this problem!"
   ]
  },
  {
   "cell_type": "code",
   "execution_count": 12,
   "metadata": {},
   "outputs": [],
   "source": [
    "class Node:\n",
    "    def __init__(self, k,val):\n",
    "        self.key = k\n",
    "        self.value = val\n",
    "        self.left = None\n",
    "        self.right = None\n",
    "\n",
    "def tree_max(node):\n",
    "    if not node:\n",
    "        return float(\"-inf\")\n",
    "    maxleft = tree_max(node.left)\n",
    "    maxright = tree_max(node.right)\n",
    "    return max(node.key, maxleft, maxright)\n",
    "\n",
    "def tree_min(node):\n",
    "    if not node:\n",
    "        return float(\"inf\")\n",
    "    minleft = tree_min(node.left)\n",
    "    minright = tree_min(node.right)\n",
    "    return min(node.key, minleft, minright)\n",
    "\n",
    "def verify(node):\n",
    "    if not node:\n",
    "        return True\n",
    "    if (tree_max(node.left) <= node.key <= tree_min(node.right) and\n",
    "        verify(node.left) and verify(node.right)):\n",
    "        return True\n",
    "    else:\n",
    "        return False"
   ]
  },
  {
   "cell_type": "code",
   "execution_count": 13,
   "metadata": {},
   "outputs": [
    {
     "name": "stdout",
     "output_type": "stream",
     "text": [
      "True\n",
      "False\n"
     ]
    }
   ],
   "source": [
    "root= Node(10, \"Hello\")\n",
    "root.left = Node(5, \"Five\")\n",
    "root.right= Node(30, \"Thirty\")\n",
    "\n",
    "print(verify(root)) # prints True, since this tree is valid\n",
    "\n",
    "root = Node(10, \"Ten\")\n",
    "root.right = Node(20, \"Twenty\")\n",
    "root.left = Node(5, \"Five\")\n",
    "root.left.right = Node(15, \"Fifteen\")\n",
    "\n",
    "print(verify(root)) # prints False, since 15 is to the left of 10"
   ]
  },
  {
   "cell_type": "code",
   "execution_count": null,
   "metadata": {},
   "outputs": [],
   "source": []
  }
 ],
 "metadata": {
  "kernelspec": {
   "display_name": "Python 3",
   "language": "python",
   "name": "python3"
  },
  "language_info": {
   "codemirror_mode": {
    "name": "ipython",
    "version": 3
   },
   "file_extension": ".py",
   "mimetype": "text/x-python",
   "name": "python",
   "nbconvert_exporter": "python",
   "pygments_lexer": "ipython3",
   "version": "3.9.13"
  }
 },
 "nbformat": 4,
 "nbformat_minor": 1
}
