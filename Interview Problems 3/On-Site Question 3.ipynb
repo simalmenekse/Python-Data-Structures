{
 "cells": [
  {
   "attachments": {},
   "cell_type": "markdown",
   "metadata": {},
   "source": [
    "# On-Site Question 3 \n",
    "\n",
    "## Problem\n",
    "\n",
    "** Create a function that takes in a list of unsorted prices (integers) and a maximum possible price value, and return a sorted list of prices**\n",
    "\n",
    "## Requirements\n",
    "\n",
    "** Your function should be able to perform this in less than O(nlogn) time. **"
   ]
  },
  {
   "cell_type": "code",
   "execution_count": 2,
   "metadata": {},
   "outputs": [],
   "source": [
    "def solution(unsorted_prices, max_price):\n",
    "\n",
    "    prices_to_count = [0] * (max_price+1)\n",
    "    for price in unsorted_prices:\n",
    "        prices_to_count[price] += 1\n",
    "    \n",
    "    sorted_list = []\n",
    "    for price, count in enumerate(prices_to_count):\n",
    "        for time in range(count):\n",
    "            sorted_list.append(price)\n",
    "\n",
    "    return sorted_list"
   ]
  },
  {
   "cell_type": "code",
   "execution_count": 5,
   "metadata": {},
   "outputs": [
    {
     "data": {
      "text/plain": [
       "[1, 1, 2, 3, 4, 5]"
      ]
     },
     "execution_count": 5,
     "metadata": {},
     "output_type": "execute_result"
    }
   ],
   "source": [
    "solution([1,3,5,2,4,1], 5)"
   ]
  },
  {
   "attachments": {},
   "cell_type": "markdown",
   "metadata": {},
   "source": [
    "# Good Luck!"
   ]
  }
 ],
 "metadata": {
  "kernelspec": {
   "display_name": "base",
   "language": "python",
   "name": "python3"
  },
  "language_info": {
   "codemirror_mode": {
    "name": "ipython",
    "version": 3
   },
   "file_extension": ".py",
   "mimetype": "text/x-python",
   "name": "python",
   "nbconvert_exporter": "python",
   "pygments_lexer": "ipython3",
   "version": "3.9.13"
  }
 },
 "nbformat": 4,
 "nbformat_minor": 0
}
