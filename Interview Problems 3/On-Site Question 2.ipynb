{
 "cells": [
  {
   "attachments": {},
   "cell_type": "markdown",
   "metadata": {},
   "source": [
    "# On-Site Question 2 \n",
    "\n",
    "## Problem\n",
    "\n",
    "** Given a list of account ID numbers (integers) which contains duplicates , find the one unique integer. (the list is guaranteed to only have one unique (non-duplicated) integer **\n",
    "\n",
    "## Requirements\n",
    "\n",
    "** Do not use built-in Python functions or methods **"
   ]
  },
  {
   "cell_type": "code",
   "execution_count": 1,
   "metadata": {},
   "outputs": [],
   "source": [
    "def solution(id_list):\n",
    "\n",
    "    unique_id = 0\n",
    "\n",
    "    for i in id_list:\n",
    "        print(\"This is the current id being checked\", i)\n",
    "        print(\"This is the current unique id: \", unique_id)\n",
    "        print(\"This is the result of XOR\", unique_id^i)\n",
    "        unique_id ^= i\n",
    "    return unique_id"
   ]
  },
  {
   "cell_type": "code",
   "execution_count": 2,
   "metadata": {},
   "outputs": [
    {
     "name": "stdout",
     "output_type": "stream",
     "text": [
      "This is the current id being checked 1\n",
      "This is the current unique id:  0\n",
      "This is the result of XOR 1\n",
      "This is the current id being checked 2\n",
      "This is the current unique id:  1\n",
      "This is the result of XOR 3\n",
      "This is the current id being checked 3\n",
      "This is the current unique id:  3\n",
      "This is the result of XOR 0\n",
      "This is the current id being checked 2\n",
      "This is the current unique id:  0\n",
      "This is the result of XOR 2\n",
      "This is the current id being checked 1\n",
      "This is the current unique id:  2\n",
      "This is the result of XOR 3\n"
     ]
    },
    {
     "data": {
      "text/plain": [
       "3"
      ]
     },
     "execution_count": 2,
     "metadata": {},
     "output_type": "execute_result"
    }
   ],
   "source": [
    "solution([1,2,3,2,1])"
   ]
  },
  {
   "attachments": {},
   "cell_type": "markdown",
   "metadata": {},
   "source": [
    "# Good Luck!"
   ]
  }
 ],
 "metadata": {
  "kernelspec": {
   "display_name": "base",
   "language": "python",
   "name": "python3"
  },
  "language_info": {
   "codemirror_mode": {
    "name": "ipython",
    "version": 3
   },
   "file_extension": ".py",
   "mimetype": "text/x-python",
   "name": "python",
   "nbconvert_exporter": "python",
   "pygments_lexer": "ipython3",
   "version": "3.9.13"
  }
 },
 "nbformat": 4,
 "nbformat_minor": 0
}
