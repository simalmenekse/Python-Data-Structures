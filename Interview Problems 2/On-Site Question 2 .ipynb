{
 "cells": [
  {
   "attachments": {},
   "cell_type": "markdown",
   "metadata": {},
   "source": [
    "# On-Site Question 2 \n",
    "\n",
    "## Problem\n",
    "\n",
    "** Write a function that given a target amount of money and a list of possible coin denominations, returns the number of ways to make change for the target amount using the coin denominations**\n",
    "\n",
    "## Requirements\n",
    "\n",
    "** Write out your work on paper/pencil, then see if you can code up your solution **"
   ]
  },
  {
   "cell_type": "code",
   "execution_count": 1,
   "metadata": {},
   "outputs": [],
   "source": [
    "def solution(n, coins):\n",
    "    arr = [1] + [0]*n\n",
    "    for coin in coins:\n",
    "        for i in range(coin, n+1):\n",
    "            arr[i] = arr[i-coin]\n",
    "    \n",
    "    if n == 0:\n",
    "        return 0\n",
    "    else:\n",
    "        return arr[n]"
   ]
  },
  {
   "attachments": {},
   "cell_type": "markdown",
   "metadata": {},
   "source": [
    "# Good Luck!"
   ]
  }
 ],
 "metadata": {
  "kernelspec": {
   "display_name": "base",
   "language": "python",
   "name": "python3"
  },
  "language_info": {
   "codemirror_mode": {
    "name": "ipython",
    "version": 3
   },
   "file_extension": ".py",
   "mimetype": "text/x-python",
   "name": "python",
   "nbconvert_exporter": "python",
   "pygments_lexer": "ipython3",
   "version": "3.9.13"
  }
 },
 "nbformat": 4,
 "nbformat_minor": 0
}
