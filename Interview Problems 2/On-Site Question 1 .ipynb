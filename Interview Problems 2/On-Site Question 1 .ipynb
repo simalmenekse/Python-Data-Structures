{
 "cells": [
  {
   "attachments": {},
   "cell_type": "markdown",
   "metadata": {},
   "source": [
    "# On-Site Question 1 \n",
    "\n",
    "## Problem\n",
    "\n",
    "** Given a list of integers, find the largest product you could make from 3 integers in the list **\n",
    "\n",
    "## Requirements\n",
    "\n",
    "** You can assume that the list will always have at least 3 integers **\n",
    "\n",
    "** Paper/pencil only, don't code this out until you've solved it as far as you can by hand. **"
   ]
  },
  {
   "cell_type": "code",
   "execution_count": null,
   "metadata": {},
   "outputs": [],
   "source": [
    "def solution(lst):\n",
    "\n",
    "    high = max(lst[0], lst[1])\n",
    "    low = min(lst[0], lst[1])\n",
    "\n",
    "    high_prod2 = lst[0] * lst[1]\n",
    "    low_prod2 = lst[0]* lst[1]\n",
    "\n",
    "    high_prod3 = lst[0]*lst[1]*lst[2]\n",
    "\n",
    "    for num in lst[2:]:\n",
    "        high_prod3 = max(high_prod3, num*high_prod2, num*low_prod2)\n",
    "        high_prod2 = max(high_prod2, num*high, num*low)\n",
    "        low_prod2 = min(low_prod2, num*high, num*low)\n",
    "\n",
    "        high = max(high, num)\n",
    "        low = min(low, num)\n",
    "    \n",
    "    return high_prod3\n"
   ]
  },
  {
   "attachments": {},
   "cell_type": "markdown",
   "metadata": {},
   "source": [
    "# Good Luck!"
   ]
  }
 ],
 "metadata": {
  "kernelspec": {
   "display_name": "base",
   "language": "python",
   "name": "python3"
  },
  "language_info": {
   "codemirror_mode": {
    "name": "ipython",
    "version": 2
   },
   "file_extension": ".py",
   "mimetype": "text/x-python",
   "name": "python",
   "nbconvert_exporter": "python",
   "pygments_lexer": "ipython2",
   "version": "3.9.13"
  }
 },
 "nbformat": 4,
 "nbformat_minor": 0
}
